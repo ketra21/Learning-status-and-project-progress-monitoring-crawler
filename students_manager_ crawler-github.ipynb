{
 "cells": [
  {
   "cell_type": "code",
   "execution_count": null,
   "metadata": {},
   "outputs": [],
   "source": [
    "#students_manager"
   ]
  },
  {
   "cell_type": "code",
   "execution_count": null,
   "metadata": {},
   "outputs": [],
   "source": [
    "import numpy as np\n",
    "import pandas as pd\n",
    "import requests\n",
    "import pprint\n",
    "from bs4 import BeautifulSoup\n",
    "from requests.auth import HTTPBasicAuth\n",
    "import time\n",
    "import datetime\n",
    "import http.client\n",
    "import matplotlib.pyplot as plt\n",
    "%matplotlib inline"
   ]
  },
  {
   "cell_type": "code",
   "execution_count": null,
   "metadata": {
    "scrolled": true
   },
   "outputs": [],
   "source": [
    "df = pd.read_csv('students_info.csv')\n",
    "df.Udacity_id = df.Udacity_id.astype('int64')\n",
    "df.Udacity_id = df.Udacity_id.astype('str')\n",
    "\n",
    "df_old = df.copy()"
   ]
  },
  {
   "cell_type": "code",
   "execution_count": null,
   "metadata": {},
   "outputs": [],
   "source": [
    "# project id for P1 - P4\n",
    "project_ids_all = {'dand':[330,328,107,355],'band':[324,317,186,551]}\n",
    "email_add = '***@udacity.com'#输入你的udacity邮箱\n",
    "password = '***'#输入你的密码"
   ]
  },
  {
   "cell_type": "code",
   "execution_count": null,
   "metadata": {},
   "outputs": [],
   "source": [
    "#signin\n",
    "url = \"https://cn-auth.udacity.com/api/v1/signin\"\n",
    "\n",
    "payload = \"{\\\"email\\\":\\\"\" + email_add + \"\\\",\\\"password\\\":\\\"\"+ password +\"\\\"}\"\n",
    "headers = {\n",
    "    'accept': \"application/json\",\n",
    "    'origin': \"https://auth.udacity.com\",\n",
    "    'user-agent': \"Mozilla/5.0 (Macintosh; Intel Mac OS X 10_12_6) AppleWebKit/537.36 (KHTML, like Gecko) Chrome/71.0.3578.98 Safari/537.36\",\n",
    "    'content-type': \"application/json\",\n",
    "    'referer': \"https://auth.udacity.com/sign-in?next=https%3A%2F%2Fstudents.udacity.com\",\n",
    "    'accept-encoding': \"gzip, deflate, br\",\n",
    "    'accept-language': \"zh-CN,zh;q=0.9,en;q=0.8\",\n",
    "    'cache-control': \"no-cache\",\n",
    "    'postman-token': \"bdcf883a-15eb-61c8-c200-c6874d7b8118\"\n",
    "    }\n",
    "\n",
    "response = requests.request(\"POST\", url, data=payload, headers=headers).json()\n",
    "\n",
    "auth = 'Bearer '+ response['jwt']\n",
    "auth"
   ]
  },
  {
   "cell_type": "code",
   "execution_count": null,
   "metadata": {
    "scrolled": true
   },
   "outputs": [],
   "source": [
    "df.head()"
   ]
  },
  {
   "cell_type": "code",
   "execution_count": null,
   "metadata": {},
   "outputs": [],
   "source": [
    "def project_submission_info(student_id):\n",
    "    '''\n",
    "    input:student_id\n",
    "    output: res\n",
    "    '''\n",
    "    headers = {\"Authorization\":auth}\n",
    "    res = requests.get('https://review-api.udacity.com/api/v1/submissions?udacity_key={}'.format(student_id),headers=headers).json()\n",
    "    return res"
   ]
  },
  {
   "cell_type": "code",
   "execution_count": null,
   "metadata": {},
   "outputs": [],
   "source": [
    "# several passed info\n",
    "def project_result(project_history):\n",
    "    '''\n",
    "    input:project_history\n",
    "    output: passed/failed/submitted\n",
    "    '''\n",
    "    # print(project_history)\n",
    "    if len(project_history) == 0:\n",
    "        return '      '\n",
    "    elif project_history[0] == 'passed':\n",
    "        return 'passed'\n",
    "    elif project_history[0] == 'failed':\n",
    "        return str(len(project_history)) + ' failed'\n",
    "    else:\n",
    "        return str(len(project_history)) + ' submitted'"
   ]
  },
  {
   "cell_type": "code",
   "execution_count": null,
   "metadata": {},
   "outputs": [],
   "source": [
    "# using project_number to output results\n",
    "def results(project_number):\n",
    "    '''\n",
    "    input:project_number,info\n",
    "    output: project_result\n",
    "    '''\n",
    "    project_history = []\n",
    "    for submission in info:\n",
    "        if submission['project']['id'] == project_number:\n",
    "            project_history.append(submission['result'])\n",
    "    result = project_result(project_history)\n",
    "    return result"
   ]
  },
  {
   "cell_type": "code",
   "execution_count": null,
   "metadata": {},
   "outputs": [],
   "source": [
    "def update_table(student_id, info, df):  \n",
    "    '''\n",
    "    input:student_id,info,df\n",
    "    output: update_table\n",
    "    '''\n",
    "    nanodegree = df[df['Udacity_id'] == student_id]['nanodegrees'].values[0]\n",
    "    try:\n",
    "        for num, pro_id in enumerate(project_ids_all[nanodegree]):            \n",
    "            result = results(pro_id)\n",
    "            project_columns = \"P{}\".format(num+1)\n",
    "            index = df[df['Udacity_id'] == student_id].index\n",
    "            df.loc[index, project_columns] = result            \n",
    "    except TypeError:\n",
    "        print('info not catched for project')\n",
    "        #print(info)\n",
    "    "
   ]
  },
  {
   "cell_type": "code",
   "execution_count": null,
   "metadata": {},
   "outputs": [],
   "source": [
    "def last_log_in(student_id):\n",
    "    '''\n",
    "    input:student_id\n",
    "    output: last_log_in\n",
    "    '''\n",
    "    nanodegree = df[df['Udacity_id'] == student_id]['nanodegrees'].values[0]\n",
    "    nanodegrees={'dand':'nd002-cn-basic-vip','band':'nd100-cn-vip','band_try':'nd100-cn-preview'}\n",
    "    url = \"https://classroom-content.udacity.com/api/v1/graphql\"\n",
    "    payload = \"{\\\"query\\\":\\\"\\\\n  query STAN_userQuery ($id: String) {\\\\n    user (id: $id) {\\\\n      can_see_professional_profile\\\\n      can_see_career_portal\\\\n      settings {\\\\n        career_portal_selected_nanodegree_track\\\\n        career_portal_selected_experience_level\\\\n      }\\\\n      user_specializations {\\\\n        nanodegree_id\\\\n        part_key\\\\n        specialization_key\\\\n        status\\\\n      }\\\\n      nanodegrees {\\\\n        id\\\\n        key\\\\n        title\\\\n        version\\\\n        locale\\\\n        is_public\\\\n        is_ready_for_graduation\\\\n        user_state {\\\\n          last_viewed_at\\\\n        }\\\\n        specializations {\\\\n          key\\\\n          title\\\\n          required_count\\\\n        }\\\\n        parts {\\\\n          key\\\\n          title\\\\n          is_public\\\\n          part_type\\\\n          modules {\\\\n            is_public\\\\n            lessons {\\\\n              is_public\\\\n              lab {\\\\n                id\\\\n                key\\\\n                title\\\\n                is_public\\\\n                result {\\\\n                  state\\\\n                }\\\\n                user_state {\\\\n                  completed_at\\\\n                }\\\\n              }\\\\n              project {\\\\n                id\\\\n                key\\\\n                title\\\\n                is_public\\\\n                rubric_id\\\\n                project_state{\\\\n                  state\\\\n                  submissions{\\\\n                    status\\\\n                    result\\\\n                    url\\\\n                  }\\\\n                }\\\\n              }\\\\n            }\\\\n          }\\\\n        }\\\\n      }\\\\n      graduated: nanodegrees(is_graduated: true) {\\\\n        id\\\\n        key\\\\n        title\\\\n        version\\\\n        specializations {\\\\n          key\\\\n          title\\\\n          required_count\\\\n        }\\\\n        parts {\\\\n          key\\\\n          title\\\\n          is_public\\\\n          part_type\\\\n          modules {\\\\n            lessons {\\\\n              lab {\\\\n                id\\\\n                key\\\\n                title\\\\n                result {\\\\n                  state\\\\n                }\\\\n                user_state {\\\\n                  completed_at\\\\n                }\\\\n              }\\\\n              project {\\\\n                id\\\\n                key\\\\n                title\\\\n                rubric_id\\\\n              }\\\\n            }\\\\n          }\\\\n        }\\\\n      }\\\\n    }\\\\n  }\\\\n\\\",\\\"variables\\\":{\\\"id\\\":\\\"\"+str(student_id)+\"\\\"}}\"\n",
    "    headers = {\n",
    "        'authorization':auth,\n",
    "        'content-type': \"application/json\"\n",
    "    }\n",
    "    print(df[df['Udacity_id'] == student_id].student_name.values[0])\n",
    "    res = requests.request(\"POST\", url, data=payload, headers=headers).json()\n",
    "    #print(res)\n",
    "    try:\n",
    "        for i in res['data']['user']['nanodegrees']:\n",
    "            #pprint.pprint(i)\n",
    "            if i['key'] == nanodegrees[nanodegree]:\n",
    "                try:\n",
    "                    last_login = i['user_state']['last_viewed_at'].split('T')[0]\n",
    "                    #print(last_login)\n",
    "                    last_view = pd.datetime.strptime(last_login, '%Y-%m-%d')\n",
    "                    diff = (today_datetime - last_view).days\n",
    "                    if diff > 3:\n",
    "                        print(tubiao*diff,diff,'天没学习了。。。')\n",
    "                    return last_login\n",
    "                except AttributeError:\n",
    "                    print('Not Begin Yet')\n",
    "                    return 'Not Begin Yet'\n",
    "    except TypeError:\n",
    "        print('info not catched for login')"
   ]
  },
  {
   "cell_type": "code",
   "execution_count": null,
   "metadata": {},
   "outputs": [],
   "source": [
    "def update_login(student_id, last_login, df):\n",
    "    '''\n",
    "    input:student_id,lastlogin,df\n",
    "    output: update_login\n",
    "    '''\n",
    "    try:\n",
    "        index = df[df['Udacity_id'] == student_id].index\n",
    "        df.loc[index, 'Last_login_old'] = df.loc[index, 'Last_login_new']\n",
    "        df.loc[index, 'Last_login_new'] = last_login\n",
    "    except KeyError:\n",
    "        print('info not catched for login')"
   ]
  },
  {
   "cell_type": "code",
   "execution_count": null,
   "metadata": {},
   "outputs": [],
   "source": [
    "def update_gap():\n",
    "    #几天未登录\n",
    "\n",
    "    today = time.strftime(\"%Y-%m-%d\", time.localtime())\n",
    "    today_datetime = pd.datetime.strptime(today, '%Y-%m-%d')\n",
    "    today_datetime \n",
    "\n",
    "    diff_list = []\n",
    "    for i in df.Last_login_new:\n",
    "        if i != 'Not Begin Yet' and i!=None:\n",
    "            last_view = pd.datetime.strptime(i, '%Y-%m-%d')\n",
    "            diff = (today_datetime - last_view).days\n",
    "        else:\n",
    "            diff = ''\n",
    "        diff_list.append(diff)\n",
    "    df['Gap'] = diff_list"
   ]
  },
  {
   "cell_type": "code",
   "execution_count": null,
   "metadata": {},
   "outputs": [],
   "source": [
    "done_list = []\n",
    "count = 0\n",
    "count_sum=len(df.Udacity_id)\n",
    "today = time.strftime(\"%Y-%m-%d\", time.localtime())\n",
    "today_datetime = pd.datetime.strptime(today, '%Y-%m-%d')\n",
    "tubiao ='📆'\n",
    "#3天以内学习过的不显示日历图标；\n",
    "#4天以上没学习的则显示图标，一个图标代表一天\n",
    "\n",
    "for id in df.Udacity_id:\n",
    "    count +=1\n",
    "    print('********{}/{}********'.format(count,count_sum))\n",
    "    info = project_submission_info(id)\n",
    "    #print(info)\n",
    "    update_table(id, info, df)\n",
    "\n",
    "    info2 = last_log_in(id)\n",
    "    #print(info2)\n",
    "    update_login(id, info2, df)\n",
    "    done_list.append(id)\n",
    "    time.sleep(1)\n",
    "update_gap()"
   ]
  },
  {
   "cell_type": "code",
   "execution_count": null,
   "metadata": {},
   "outputs": [],
   "source": [
    "left = len(df) - len(done_list)\n",
    "print(' 完成更新人数：',len(done_list),'\\n','剩余更新人数：', left)"
   ]
  },
  {
   "cell_type": "code",
   "execution_count": null,
   "metadata": {},
   "outputs": [],
   "source": [
    "# ready to continue if still anyone's not completed\n",
    "id_left = df.Udacity_id[len(done_list):]\n",
    "if len(id_left) == 0:\n",
    "    print('All done.')\n",
    "else:\n",
    "    for id in id_left:\n",
    "        print('********{}/{}********'.format(count,count_sum))\n",
    "        info = project_submission_info(id)\n",
    "        update_table(id, info, df)\n",
    "\n",
    "        info2 = last_log_in(id)\n",
    "        update_login(id, info2, df)\n",
    "        count +=1\n",
    "        done_list.append(id)"
   ]
  },
  {
   "cell_type": "code",
   "execution_count": null,
   "metadata": {
    "scrolled": true
   },
   "outputs": [],
   "source": [
    "#有更新的名单\n",
    "print('\\n学员项目新动态：')\n",
    "index_ =[]\n",
    "for index in df.index:\n",
    "    for col in ['P1','P2','P3','P4']:\n",
    "        if df_old.loc[index,col] != df.loc[index,col]:\n",
    "            index_.append(index)\n",
    "df_new = df.loc[index_,]\n",
    "df_new"
   ]
  },
  {
   "cell_type": "code",
   "execution_count": null,
   "metadata": {},
   "outputs": [],
   "source": [
    "#按日期存档\n",
    "today = str(datetime.date.today()).replace(\"-\",\"\")\n",
    "df.to_csv('students_info{}.csv'.format(today),index=False,encoding=\"utf_8_sig\")\n",
    "\n",
    "#最新文件更新\n",
    "\n",
    "df.to_csv('students_info.csv',index=False,encoding=\"utf_8_sig\")"
   ]
  },
  {
   "cell_type": "markdown",
   "metadata": {},
   "source": [
    "# Analysis\n",
    "Starting"
   ]
  },
  {
   "cell_type": "code",
   "execution_count": null,
   "metadata": {},
   "outputs": [],
   "source": [
    "df = pd.read_csv('students_info.csv')\n",
    "#df.Udacity_id = df.Udacity_id.astype('int64')\n",
    "stats_pf = df\n",
    "#stats_pf.head()"
   ]
  },
  {
   "cell_type": "code",
   "execution_count": null,
   "metadata": {},
   "outputs": [],
   "source": [
    "stats_df = df.copy()\n",
    "for i in range(1,5):\n",
    "    column = 'P{}'.format(i)\n",
    "    stats_df[column] = stats_df[column].apply(lambda x: 1 if x =='passed' else 0)\n",
    "#stats_pf.head()"
   ]
  },
  {
   "cell_type": "code",
   "execution_count": null,
   "metadata": {},
   "outputs": [],
   "source": [
    "pd.pivot_table(stats_df,index=['nanodegrees','ClassID'],values=['P1','P2','P3','P4'],aggfunc=[lambda x:format(np.mean(x),'.0%')])"
   ]
  },
  {
   "cell_type": "code",
   "execution_count": null,
   "metadata": {},
   "outputs": [],
   "source": [
    "print('\\n项目一没有通过的同学：')\n",
    "stats_df[stats_df['P1'] == 0][['ClassID','student_name','P1','P2','Gap']]"
   ]
  }
 ],
 "metadata": {
  "kernelspec": {
   "display_name": "Python 3",
   "language": "python",
   "name": "python3"
  },
  "language_info": {
   "codemirror_mode": {
    "name": "ipython",
    "version": 3
   },
   "file_extension": ".py",
   "mimetype": "text/x-python",
   "name": "python",
   "nbconvert_exporter": "python",
   "pygments_lexer": "ipython3",
   "version": "3.6.6"
  }
 },
 "nbformat": 4,
 "nbformat_minor": 2
}
